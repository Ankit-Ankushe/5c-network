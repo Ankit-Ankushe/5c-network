{
  "nbformat": 4,
  "nbformat_minor": 0,
  "metadata": {
    "colab": {
      "provenance": [],
      "authorship_tag": "ABX9TyMc7w4JQ7Z5fUnRX4cHuEUt",
      "include_colab_link": true
    },
    "kernelspec": {
      "name": "python3",
      "display_name": "Python 3"
    },
    "language_info": {
      "name": "python"
    }
  },
  "cells": [
    {
      "cell_type": "markdown",
      "metadata": {
        "id": "view-in-github",
        "colab_type": "text"
      },
      "source": [
        "<a href=\"https://colab.research.google.com/github/Ankit-Ankushe/5c-network/blob/master/Day1.ipynb\" target=\"_parent\"><img src=\"https://colab.research.google.com/assets/colab-badge.svg\" alt=\"Open In Colab\"/></a>"
      ]
    },
    {
      "cell_type": "markdown",
      "source": [
        "# PYTHON SESSION 1"
      ],
      "metadata": {
        "id": "gP5jeEPKwIzH"
      }
    },
    {
      "cell_type": "markdown",
      "source": [
        "Print Statement in Python"
      ],
      "metadata": {
        "id": "MiMSwM38vPV8"
      }
    },
    {
      "cell_type": "code",
      "execution_count": 4,
      "metadata": {
        "colab": {
          "base_uri": "https://localhost:8080/"
        },
        "id": "uPh3cwlgu25h",
        "outputId": "b2837e7e-f084-4423-90f4-21cc8b0e394a"
      },
      "outputs": [
        {
          "output_type": "stream",
          "name": "stdout",
          "text": [
            "hello word\n",
            "1\n",
            "1 2\n",
            "8 Aug 2024\n"
          ]
        }
      ],
      "source": [
        "print(\"hello word\")\n",
        "print(1)\n",
        "print(1,2)\n",
        "print(8,\"Aug\",2024)"
      ]
    },
    {
      "cell_type": "markdown",
      "source": [
        "How to add comments"
      ],
      "metadata": {
        "id": "FpFP-ss1wB-q"
      }
    },
    {
      "cell_type": "code",
      "source": [
        "# This is a comment"
      ],
      "metadata": {
        "id": "Jr6rE31Wwdnq"
      },
      "execution_count": null,
      "outputs": []
    },
    {
      "cell_type": "markdown",
      "source": [
        "Variables - Containers used to store values"
      ],
      "metadata": {
        "id": "WoOVTjvzwjo1"
      }
    },
    {
      "cell_type": "code",
      "source": [
        "x = 12\n",
        "print(x)"
      ],
      "metadata": {
        "colab": {
          "base_uri": "https://localhost:8080/"
        },
        "id": "smAm3u_lwr00",
        "outputId": "fe8f1493-7d56-45e0-e65b-bb44ccfb45ac"
      },
      "execution_count": 7,
      "outputs": [
        {
          "output_type": "stream",
          "name": "stdout",
          "text": [
            "12\n"
          ]
        }
      ]
    },
    {
      "cell_type": "markdown",
      "source": [
        "Naming convensions for variable\n",
        "Rule 1 :- Allowed Characters -> A-Z,a-z,0-9 and _\n",
        "Rule 2 :- Name has to start with string characters or _ (underscore)\n",
        "Rule 3 :- Names are case sensitive\n",
        "Rule 4 :- Names cannot be a keyword example- if,else,for  "
      ],
      "metadata": {
        "id": "Fu06_NQfw-YM"
      }
    },
    {
      "cell_type": "code",
      "source": [
        "var1 = 12\n",
        "Var1 = 90\n",
        "print(var1,Var1) # python is case sensitive"
      ],
      "metadata": {
        "colab": {
          "base_uri": "https://localhost:8080/"
        },
        "id": "dqfekHpGyFky",
        "outputId": "75cfcbe9-6d61-41d1-aa93-ef1743cdf58f"
      },
      "execution_count": 8,
      "outputs": [
        {
          "output_type": "stream",
          "name": "stdout",
          "text": [
            "12 90\n"
          ]
        }
      ]
    },
    {
      "cell_type": "markdown",
      "source": [
        "How to get type of a variable"
      ],
      "metadata": {
        "id": "jqXNEi1EyZuH"
      }
    },
    {
      "cell_type": "code",
      "source": [
        "var1 = 12\n",
        "var2 = \"hello\"\n",
        "var3 = 1.1\n",
        "var4 = True\n",
        "var5 = 1,2,3,4\n",
        "\n",
        "print(type(var1))  #int\n",
        "print(type(var2))  #str\n",
        "print(type(var3))  #float\n",
        "print(type(var4))  #bool\n",
        "print(type(var5))  #tuple"
      ],
      "metadata": {
        "colab": {
          "base_uri": "https://localhost:8080/"
        },
        "id": "Om22MD2NyfpH",
        "outputId": "9bf83088-080b-4f38-daf8-a674eb7a5358"
      },
      "execution_count": 13,
      "outputs": [
        {
          "output_type": "stream",
          "name": "stdout",
          "text": [
            "<class 'int'>\n",
            "<class 'str'>\n",
            "<class 'float'>\n",
            "<class 'bool'>\n",
            "<class 'bool'>\n"
          ]
        }
      ]
    },
    {
      "cell_type": "markdown",
      "source": [
        "Character Extraction from string"
      ],
      "metadata": {
        "id": "ivdI3QmPzNok"
      }
    },
    {
      "cell_type": "code",
      "source": [
        "var1 = \"Happy Learning\"\n",
        "print(var1[0])      #H\n",
        "print(var1[6:11])   #Learn (this is know as string slicing)\n",
        "print(var1[:5])     #Happy\n",
        "print(var1[6:])     #Learning"
      ],
      "metadata": {
        "colab": {
          "base_uri": "https://localhost:8080/"
        },
        "id": "E0qf0jQ5zXQB",
        "outputId": "c8fc345e-781a-4d2c-9426-2cfe2a134641"
      },
      "execution_count": 22,
      "outputs": [
        {
          "output_type": "stream",
          "name": "stdout",
          "text": [
            "H\n",
            "Learn\n",
            "Happy\n",
            "Learning\n",
            "Learning\n"
          ]
        }
      ]
    },
    {
      "cell_type": "markdown",
      "source": [
        "Operations in Python"
      ],
      "metadata": {
        "id": "GEDI-rCB0b6a"
      }
    },
    {
      "cell_type": "code",
      "source": [
        "#Arithmetic Operations\n",
        "var1 = 4\n",
        "var2 = 2\n",
        "print(var1+var2)    # 6\n",
        "print(var1-var2)    # 2\n",
        "print(var1*var2)    # 8\n",
        "print(var1/var2)    # 2.0\n",
        "print(var1%var2)    # 0\n",
        "print(var1**var2)   # 16\n",
        "print(var1//var2)   # 2"
      ],
      "metadata": {
        "colab": {
          "base_uri": "https://localhost:8080/"
        },
        "id": "8LcKUyHg0eX0",
        "outputId": "b55030c1-279a-45f3-e42b-aa31ccde8c37"
      },
      "execution_count": 23,
      "outputs": [
        {
          "output_type": "stream",
          "name": "stdout",
          "text": [
            "6\n",
            "2\n",
            "8\n",
            "2.0\n",
            "0\n",
            "16\n",
            "2\n"
          ]
        }
      ]
    },
    {
      "cell_type": "code",
      "source": [
        "#Relational Operators\n",
        "var1 = 4\n",
        "var2 = 2\n",
        "print(var1==var2)   #False\n",
        "print(var1!=var2)   #True\n",
        "print(var1>var2)    #True\n",
        "print(var1<var2)    #False"
      ],
      "metadata": {
        "colab": {
          "base_uri": "https://localhost:8080/"
        },
        "id": "ZQcRuLe61XX9",
        "outputId": "7276e598-86c3-4bd5-8418-05fab9aa7b91"
      },
      "execution_count": 24,
      "outputs": [
        {
          "output_type": "stream",
          "name": "stdout",
          "text": [
            "False\n",
            "True\n",
            "True\n",
            "False\n"
          ]
        }
      ]
    },
    {
      "cell_type": "code",
      "source": [
        "#Logical Operators\n",
        "#and,or,not\n",
        "var1 = True\n",
        "var2 = False\n",
        "print(var1 and var2)   #False\n",
        "print(var1 or var2)    #True\n",
        "print(not var1)        #False"
      ],
      "metadata": {
        "colab": {
          "base_uri": "https://localhost:8080/"
        },
        "id": "aysOlN6f1fOX",
        "outputId": "291828fa-779f-4379-96f5-fa3bac6dc310"
      },
      "execution_count": 25,
      "outputs": [
        {
          "output_type": "stream",
          "name": "stdout",
          "text": [
            "False\n",
            "True\n",
            "False\n"
          ]
        }
      ]
    }
  ]
}