{
  "nbformat": 4,
  "nbformat_minor": 0,
  "metadata": {
    "colab": {
      "provenance": [],
      "authorship_tag": "ABX9TyOtV69EBUbrCEclY8Li+f2P",
      "include_colab_link": true
    },
    "kernelspec": {
      "name": "python3",
      "display_name": "Python 3"
    },
    "language_info": {
      "name": "python"
    }
  },
  "cells": [
    {
      "cell_type": "markdown",
      "metadata": {
        "id": "view-in-github",
        "colab_type": "text"
      },
      "source": [
        "<a href=\"https://colab.research.google.com/github/Ankit-Ankushe/5c-network/blob/master/Day7.ipynb\" target=\"_parent\"><img src=\"https://colab.research.google.com/assets/colab-badge.svg\" alt=\"Open In Colab\"/></a>"
      ]
    },
    {
      "cell_type": "markdown",
      "source": [
        "# **Sorting**\n",
        "\n",
        "\n",
        "1.   Insertion Sort\n",
        "2.   Selection Sort\n",
        "3.   Bubble Sort\n",
        "4.   Quick Sort\n",
        "\n"
      ],
      "metadata": {
        "id": "vvaV0xinH2ap"
      }
    },
    {
      "cell_type": "code",
      "source": [
        "# Insertion Sort\n",
        "\n",
        "def insertion_sort(arr):\n",
        "  for i in range(1,len(arr)):\n",
        "    key = arr[i]\n",
        "    j = i-1\n",
        "    while j>=0 and arr[j]>key:\n",
        "      arr[j+1] = arr[j]\n",
        "      j -= 1\n",
        "    arr[j+1] = key\n",
        "  return arr\n",
        "\n",
        "arr = [12,11,13,5,6]\n",
        "print(insertion_sort(arr))"
      ],
      "metadata": {
        "colab": {
          "base_uri": "https://localhost:8080/"
        },
        "id": "F7Yd7WooIPyq",
        "outputId": "af8521b8-007b-4cc7-9214-b6e7234f2a56"
      },
      "execution_count": 1,
      "outputs": [
        {
          "output_type": "stream",
          "name": "stdout",
          "text": [
            "[5, 6, 11, 12, 13]\n"
          ]
        }
      ]
    },
    {
      "cell_type": "code",
      "source": [
        "# Selection Sort\n",
        "\n",
        "def selection_sort(arr):\n",
        "  for i in range(len(arr)):\n",
        "    min_index = i\n",
        "    for j in range(i+1,len(arr)):\n",
        "      if arr[j]<arr[min_index]:\n",
        "        min_index = j\n",
        "        arr[i],arr[min_index] = arr[min_index],arr[i]\n",
        "  return arr\n",
        "\n",
        "arr = [12,11,13,5,6]\n",
        "print(selection_sort(arr))"
      ],
      "metadata": {
        "colab": {
          "base_uri": "https://localhost:8080/"
        },
        "id": "MBBrYqVGIZVR",
        "outputId": "b9f2de2c-9125-4c86-85df-a09872b95b17"
      },
      "execution_count": 2,
      "outputs": [
        {
          "output_type": "stream",
          "name": "stdout",
          "text": [
            "[6, 5, 11, 12, 13]\n"
          ]
        }
      ]
    },
    {
      "cell_type": "code",
      "source": [
        "# Bubble Sort\n",
        "\n",
        "def bubble_sort(arr):\n",
        "  for i in range(len(arr)):\n",
        "    for j in range(len(arr)-i-1):\n",
        "      if arr[j]>arr[j+1]:\n",
        "        arr[j],arr[j+1] = arr[j+1],arr[j]\n",
        "  return arr\n",
        "\n",
        "arr = [12,11,13,5,6]\n",
        "print(bubble_sort(arr))"
      ],
      "metadata": {
        "colab": {
          "base_uri": "https://localhost:8080/"
        },
        "id": "Y4WbMU5hIgAC",
        "outputId": "b9c02d38-7e59-4659-d9dc-7ba95efe587b"
      },
      "execution_count": 3,
      "outputs": [
        {
          "output_type": "stream",
          "name": "stdout",
          "text": [
            "[5, 6, 11, 12, 13]\n"
          ]
        }
      ]
    },
    {
      "cell_type": "code",
      "source": [
        "# Quick Sort\n",
        "\n",
        "def quick_sort(arr):\n",
        "  if len(arr) <= 1:\n",
        "    return arr\n",
        "  else:\n",
        "    pivot = arr[len(arr)//2]\n",
        "    left = [x for x in arr if x<pivot]\n",
        "    middle = [x for x in arr if x==pivot]\n",
        "    right = [x for x in arr if x>pivot]\n",
        "    return quick_sort(left) + middle + quick_sort(right)\n",
        "\n",
        "arr = [12,11,13,5,6]\n",
        "print(quick_sort(arr))"
      ],
      "metadata": {
        "colab": {
          "base_uri": "https://localhost:8080/"
        },
        "id": "6uWlhr2KIjT3",
        "outputId": "8b25329f-48c2-4cd0-baf6-3cfee16763e2"
      },
      "execution_count": 4,
      "outputs": [
        {
          "output_type": "stream",
          "name": "stdout",
          "text": [
            "[5, 6, 11, 12, 13]\n"
          ]
        }
      ]
    }
  ]
}